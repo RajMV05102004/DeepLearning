{
 "cells": [
  {
   "cell_type": "markdown",
   "metadata": {},
   "source": [
    "# Day 1"
   ]
  },
  {
   "cell_type": "markdown",
   "metadata": {},
   "source": [
    "1. re (Regular Expressions): Helps in pattern matching and text preprocessing.\n",
    "2. sklearn.utils.shuffle: Randomly shuffles datasets to avoid biases in training.\n",
    "3. tensorflow.keras.layers:\n",
    "    1. Input: Defines input layers for neural networks.\n",
    "    2. LSTM: Long Short-Term Memory layer for sequential data processing (e.g., NLP).\n",
    "    3. Embedding: Converts categorical data into dense vector representations.\n",
    "    4. Dense: Fully connected layer for deep learning models.\n",
    "    5. Bidirectional: Wraps LSTM to process input in both forward and backward directions.\n",
    "4. tensorflow.keras.models.Model: Defines and compiles deep learning models.\n",
    "5. string & digits (from string module): Used for string operations, including handling punctuation and digits."
   ]
  },
  {
   "cell_type": "code",
   "execution_count": 1,
   "metadata": {},
   "outputs": [],
   "source": [
    "import pandas as pd\n",
    "import numpy as np\n",
    "import string\n",
    "from string import digits\n",
    "import matplotlib.pyplot as plt\n",
    "%matplotlib inline\n",
    "import re\n",
    "from sklearn.utils import shuffle\n",
    "from sklearn.model_selection import train_test_split\n",
    "from tensorflow.keras.layers import Input,LSTM,Embedding,Dense,Bidirectional\n",
    "from tensorflow.keras.models import Model"
   ]
  },
  {
   "cell_type": "code",
   "execution_count": 2,
   "metadata": {},
   "outputs": [],
   "source": [
    "data=pd.read_csv(r'C:\\Users\\User\\Downloads\\Dataset_English_Hindi.csv\\Dataset_English_Hindi.csv')"
   ]
  },
  {
   "cell_type": "code",
   "execution_count": 3,
   "metadata": {},
   "outputs": [
    {
     "data": {
      "text/html": [
       "<div>\n",
       "<style scoped>\n",
       "    .dataframe tbody tr th:only-of-type {\n",
       "        vertical-align: middle;\n",
       "    }\n",
       "\n",
       "    .dataframe tbody tr th {\n",
       "        vertical-align: top;\n",
       "    }\n",
       "\n",
       "    .dataframe thead th {\n",
       "        text-align: right;\n",
       "    }\n",
       "</style>\n",
       "<table border=\"1\" class=\"dataframe\">\n",
       "  <thead>\n",
       "    <tr style=\"text-align: right;\">\n",
       "      <th></th>\n",
       "      <th>English</th>\n",
       "      <th>Hindi</th>\n",
       "    </tr>\n",
       "  </thead>\n",
       "  <tbody>\n",
       "    <tr>\n",
       "      <th>0</th>\n",
       "      <td>Help!</td>\n",
       "      <td>बचाओ!</td>\n",
       "    </tr>\n",
       "    <tr>\n",
       "      <th>1</th>\n",
       "      <td>Jump.</td>\n",
       "      <td>उछलो.</td>\n",
       "    </tr>\n",
       "    <tr>\n",
       "      <th>2</th>\n",
       "      <td>Jump.</td>\n",
       "      <td>कूदो.</td>\n",
       "    </tr>\n",
       "    <tr>\n",
       "      <th>3</th>\n",
       "      <td>Jump.</td>\n",
       "      <td>छलांग.</td>\n",
       "    </tr>\n",
       "    <tr>\n",
       "      <th>4</th>\n",
       "      <td>Hello!</td>\n",
       "      <td>नमस्ते।</td>\n",
       "    </tr>\n",
       "  </tbody>\n",
       "</table>\n",
       "</div>"
      ],
      "text/plain": [
       "  English    Hindi\n",
       "0   Help!    बचाओ!\n",
       "1   Jump.    उछलो.\n",
       "2   Jump.    कूदो.\n",
       "3   Jump.   छलांग.\n",
       "4  Hello!  नमस्ते।"
      ]
     },
     "execution_count": 3,
     "metadata": {},
     "output_type": "execute_result"
    }
   ],
   "source": [
    "data.head()"
   ]
  },
  {
   "cell_type": "markdown",
   "metadata": {},
   "source": [
    "# Let us analyze the data!"
   ]
  },
  {
   "cell_type": "code",
   "execution_count": 4,
   "metadata": {},
   "outputs": [
    {
     "data": {
      "text/plain": [
       "English\n",
       "False    130474\n",
       "True          2\n",
       "Name: count, dtype: int64"
      ]
     },
     "execution_count": 4,
     "metadata": {},
     "output_type": "execute_result"
    }
   ],
   "source": [
    "data['English'].isnull().value_counts()"
   ]
  },
  {
   "cell_type": "code",
   "execution_count": 5,
   "metadata": {},
   "outputs": [
    {
     "data": {
      "text/plain": [
       "Hindi\n",
       "False    130164\n",
       "True        312\n",
       "Name: count, dtype: int64"
      ]
     },
     "execution_count": 5,
     "metadata": {},
     "output_type": "execute_result"
    }
   ],
   "source": [
    "data['Hindi'].isnull().value_counts()"
   ]
  },
  {
   "cell_type": "code",
   "execution_count": 6,
   "metadata": {},
   "outputs": [],
   "source": [
    "data.dropna(inplace=True)"
   ]
  },
  {
   "cell_type": "code",
   "execution_count": 7,
   "metadata": {},
   "outputs": [],
   "source": [
    "data=data.iloc[:2000,:]"
   ]
  },
  {
   "cell_type": "markdown",
   "metadata": {},
   "source": [
    "# Preprocessing "
   ]
  },
  {
   "cell_type": "code",
   "execution_count": 8,
   "metadata": {},
   "outputs": [],
   "source": [
    "# Convert everything into LOWER case\n",
    "data.English=data.English.apply(lambda x: x.lower())\n",
    "data.Hindi=data.Hindi.apply(lambda x: x.lower())\n",
    "\n",
    "# Remove Quotes\n",
    "data.English=data.English.apply(lambda x: re.sub(\"'\",'',x))\n",
    "data.Hindi=data.Hindi.apply(lambda x: re.sub(\"'\",'',x))\n",
    "\n",
    "# Set of all special characters\n",
    "exclude=set(string.punctuation)\n",
    "\n",
    "# Remove all Special characters stored in the above set 'exclude'\n",
    "data.English=data.English.apply(lambda x:''.join(ch for ch in x if ch not in exclude))\n",
    "data.Hindi=data.Hindi.apply(lambda x:''.join(ch for ch in x if ch not in exclude))\n",
    "\n",
    "#Removing Hindi punctuations explicitly\n",
    "hindi_punctuation = '।॥“”‘’'\n",
    "data.Hindi = data.Hindi.apply(lambda x: re.sub(f\"[{hindi_punctuation}]\", \"\", x))\n",
    "\n",
    "\n",
    "# Remove all numbers from the text\n",
    "remove_digits=str.maketrans('','',digits)#creates a translation table that removes all digits (0-9) from a string when used with .translate().\n",
    "data.English=data.English.apply(lambda x: x.translate(remove_digits))\n",
    "data.Hindi = data.Hindi.apply(lambda x: re.sub(\"[२३०८१५७९४६]\", \"\", x))\n",
    "\n",
    "# Remove all extra spaces\n",
    "data.English=data.English.apply(lambda x: x.strip())\n",
    "data.Hindi=data.Hindi.apply(lambda x: x.strip())\n",
    "data.English=data.English.apply(lambda x : re.sub(' +',' ',x))\n",
    "data.Hindi=data.Hindi.apply(lambda x : re.sub(' +',' ',x))\n",
    "\n",
    "data.Hindi=data.Hindi.apply(lambda x: 'START_ '+x+' _END')\n"
   ]
  },
  {
   "cell_type": "markdown",
   "metadata": {},
   "source": [
    "Text Preprocessing Summary\n",
    "1. Lowercasing – Converts all text to lowercase.\n",
    "2. Remove Quotes & Special Characters – Eliminates punctuation and single quotes.\n",
    "3. Remove Numbers – Deletes English digits (0-9) and specific Hindi numerals.\n",
    "4. Remove Extra Spaces – Strips leading/trailing spaces and replaces multiple spaces with a single one.\n",
    "5. Add Start & End Tokens (Hindi) – Wraps Hindi text with \"START_+ \" and \" _END\" for sequence modeling."
   ]
  },
  {
   "cell_type": "code",
   "execution_count": 9,
   "metadata": {},
   "outputs": [
    {
     "data": {
      "text/html": [
       "<div>\n",
       "<style scoped>\n",
       "    .dataframe tbody tr th:only-of-type {\n",
       "        vertical-align: middle;\n",
       "    }\n",
       "\n",
       "    .dataframe tbody tr th {\n",
       "        vertical-align: top;\n",
       "    }\n",
       "\n",
       "    .dataframe thead th {\n",
       "        text-align: right;\n",
       "    }\n",
       "</style>\n",
       "<table border=\"1\" class=\"dataframe\">\n",
       "  <thead>\n",
       "    <tr style=\"text-align: right;\">\n",
       "      <th></th>\n",
       "      <th>English</th>\n",
       "      <th>Hindi</th>\n",
       "    </tr>\n",
       "  </thead>\n",
       "  <tbody>\n",
       "    <tr>\n",
       "      <th>892</th>\n",
       "      <td>cheese is made from milk</td>\n",
       "      <td>START_ चीज़ दूध से बनता है _END</td>\n",
       "    </tr>\n",
       "    <tr>\n",
       "      <th>367</th>\n",
       "      <td>everyone likes him</td>\n",
       "      <td>START_ उसे सब पसंद करते हैं _END</td>\n",
       "    </tr>\n",
       "    <tr>\n",
       "      <th>579</th>\n",
       "      <td>please shut the door</td>\n",
       "      <td>START_ दरवाज़े को बंद कर दीजिए _END</td>\n",
       "    </tr>\n",
       "    <tr>\n",
       "      <th>416</th>\n",
       "      <td>she is very pretty</td>\n",
       "      <td>START_ वह बहुत सुंदर है _END</td>\n",
       "    </tr>\n",
       "    <tr>\n",
       "      <th>1839</th>\n",
       "      <td>i cannot understand what happened</td>\n",
       "      <td>START_ मुझे समझ में नहीं आ रहा क्या हुआ _END</td>\n",
       "    </tr>\n",
       "  </tbody>\n",
       "</table>\n",
       "</div>"
      ],
      "text/plain": [
       "                                English  \\\n",
       "892            cheese is made from milk   \n",
       "367                  everyone likes him   \n",
       "579                please shut the door   \n",
       "416                  she is very pretty   \n",
       "1839  i cannot understand what happened   \n",
       "\n",
       "                                             Hindi  \n",
       "892                START_ चीज़ दूध से बनता है _END  \n",
       "367               START_ उसे सब पसंद करते हैं _END  \n",
       "579            START_ दरवाज़े को बंद कर दीजिए _END  \n",
       "416                   START_ वह बहुत सुंदर है _END  \n",
       "1839  START_ मुझे समझ में नहीं आ रहा क्या हुआ _END  "
      ]
     },
     "execution_count": 9,
     "metadata": {},
     "output_type": "execute_result"
    }
   ],
   "source": [
    "data.sample(5)"
   ]
  },
  {
   "cell_type": "markdown",
   "metadata": {},
   "source": [
    "The whole vocabulary of Hindi and English present in the dataset "
   ]
  },
  {
   "cell_type": "code",
   "execution_count": 10,
   "metadata": {},
   "outputs": [],
   "source": [
    "# English Vocabulary\n",
    "english_vocab = set()\n",
    "for sentence in data.English:\n",
    "    for word in sentence.split():\n",
    "        english_vocab.add(word)  # No need for the extra 'if' check\n",
    "\n",
    "# Hindi Vocabulary\n",
    "hindi_vocab = set()\n",
    "for sentence in data.Hindi:\n",
    "    for word in sentence.split():\n",
    "        hindi_vocab.add(word)  # No need for the extra 'if' check\n"
   ]
  },
  {
   "cell_type": "code",
   "execution_count": 11,
   "metadata": {},
   "outputs": [],
   "source": [
    "# Max Length of Source sequence\n",
    "length_list=[]\n",
    "for l in data.English:\n",
    "    length_list.append(len(l.split(' ')))\n",
    "max_length_src=np.max(length_list)\n",
    "\n",
    "# Max Length of Target sequence\n",
    "length_list=[]\n",
    "for l in data.Hindi:\n",
    "    length_list.append(len(l.split(' ')))\n",
    "max_length_tar=np.max(length_list)\n"
   ]
  },
  {
   "cell_type": "code",
   "execution_count": 12,
   "metadata": {},
   "outputs": [
    {
     "data": {
      "text/plain": [
       "14"
      ]
     },
     "execution_count": 12,
     "metadata": {},
     "output_type": "execute_result"
    }
   ],
   "source": [
    "max_length_tar"
   ]
  },
  {
   "cell_type": "code",
   "execution_count": 13,
   "metadata": {},
   "outputs": [],
   "source": [
    "input_words=sorted(list(english_vocab))\n",
    "target_words=sorted(list(hindi_vocab))\n",
    "\n",
    "num_encoder_tokens=len(english_vocab)\n",
    "num_decoder_tokens=len(hindi_vocab)\n",
    "num_encoder_tokens,num_decoder_tokens\n",
    "\n",
    "# for 0 padding\n",
    "num_decoder_tokens+=1\n"
   ]
  },
  {
   "cell_type": "code",
   "execution_count": 14,
   "metadata": {},
   "outputs": [
    {
     "data": {
      "text/plain": [
       "2058"
      ]
     },
     "execution_count": 14,
     "metadata": {},
     "output_type": "execute_result"
    }
   ],
   "source": [
    "num_decoder_tokens"
   ]
  },
  {
   "cell_type": "code",
   "execution_count": 15,
   "metadata": {},
   "outputs": [],
   "source": [
    "input_token_index=dict([word,i+1] for i,word in enumerate(input_words))\n",
    "target_token_index=dict([word,i+1] for i,word in enumerate(target_words))\n",
    "\n",
    "reverse_input_char_index = dict((i, word) for word, i in input_token_index.items())\n",
    "reverse_target_char_index = dict((i, word) for word, i in target_token_index.items())"
   ]
  },
  {
   "cell_type": "code",
   "execution_count": 16,
   "metadata": {},
   "outputs": [],
   "source": [
    "data_to_save={\n",
    "    \"input_token_index\":input_token_index,\n",
    "    \"target_token_index\":target_token_index,\n",
    "    \"reverse_input_char_index\":reverse_input_char_index,\n",
    "    \"reverse_target_char_index\":reverse_target_char_index,\n",
    "    \"num_encoder_tokens\":num_encoder_tokens,\n",
    "    \"num_decoder_tokens\":num_decoder_tokens,\n",
    "    \"max_length_src\":max_length_src,\n",
    "    \"max_lenght_tar\":max_length_tar\n",
    "}"
   ]
  },
  {
   "cell_type": "code",
   "execution_count": 17,
   "metadata": {},
   "outputs": [],
   "source": [
    "import pickle"
   ]
  },
  {
   "cell_type": "code",
   "execution_count": 18,
   "metadata": {},
   "outputs": [
    {
     "name": "stdout",
     "output_type": "stream",
     "text": [
      "Variables saved successfully!\n"
     ]
    }
   ],
   "source": [
    "# Save to a pickle file\n",
    "with open(\"variables.pkl\", \"wb\") as f:\n",
    "    pickle.dump(data_to_save, f)\n",
    "\n",
    "print(\"Variables saved successfully!\")"
   ]
  },
  {
   "cell_type": "code",
   "execution_count": 19,
   "metadata": {},
   "outputs": [],
   "source": [
    "# for i in ['hello','i','am','learning','translation']:\n",
    "#     print(input_token_index[i])\n",
    "    "
   ]
  },
  {
   "cell_type": "code",
   "execution_count": 20,
   "metadata": {},
   "outputs": [
    {
     "data": {
      "text/html": [
       "<div>\n",
       "<style scoped>\n",
       "    .dataframe tbody tr th:only-of-type {\n",
       "        vertical-align: middle;\n",
       "    }\n",
       "\n",
       "    .dataframe tbody tr th {\n",
       "        vertical-align: top;\n",
       "    }\n",
       "\n",
       "    .dataframe thead th {\n",
       "        text-align: right;\n",
       "    }\n",
       "</style>\n",
       "<table border=\"1\" class=\"dataframe\">\n",
       "  <thead>\n",
       "    <tr style=\"text-align: right;\">\n",
       "      <th></th>\n",
       "      <th>English</th>\n",
       "      <th>Hindi</th>\n",
       "    </tr>\n",
       "  </thead>\n",
       "  <tbody>\n",
       "    <tr>\n",
       "      <th>1438</th>\n",
       "      <td>when did the accident happen</td>\n",
       "      <td>START_ हादसा कब हुआ _END</td>\n",
       "    </tr>\n",
       "    <tr>\n",
       "      <th>1115</th>\n",
       "      <td>were here to protect you</td>\n",
       "      <td>START_ हम आपकी रक्षा करने के लिए यहाँ आए हैं _END</td>\n",
       "    </tr>\n",
       "    <tr>\n",
       "      <th>371</th>\n",
       "      <td>he cried and cried</td>\n",
       "      <td>START_ वह रोया और और रोया _END</td>\n",
       "    </tr>\n",
       "    <tr>\n",
       "      <th>999</th>\n",
       "      <td>a is times as long as b</td>\n",
       "      <td>START_ a b से पाँचगुना लम्बा है _END</td>\n",
       "    </tr>\n",
       "    <tr>\n",
       "      <th>1903</th>\n",
       "      <td>you had better not read this book</td>\n",
       "      <td>START_ तुम यह किताब न ही पढ़ो बेहतर होगा _END</td>\n",
       "    </tr>\n",
       "  </tbody>\n",
       "</table>\n",
       "</div>"
      ],
      "text/plain": [
       "                                English  \\\n",
       "1438       when did the accident happen   \n",
       "1115           were here to protect you   \n",
       "371                  he cried and cried   \n",
       "999             a is times as long as b   \n",
       "1903  you had better not read this book   \n",
       "\n",
       "                                                  Hindi  \n",
       "1438                           START_ हादसा कब हुआ _END  \n",
       "1115  START_ हम आपकी रक्षा करने के लिए यहाँ आए हैं _END  \n",
       "371                      START_ वह रोया और और रोया _END  \n",
       "999                START_ a b से पाँचगुना लम्बा है _END  \n",
       "1903      START_ तुम यह किताब न ही पढ़ो बेहतर होगा _END  "
      ]
     },
     "execution_count": 20,
     "metadata": {},
     "output_type": "execute_result"
    }
   ],
   "source": [
    "data=shuffle(data)\n",
    "data.head()"
   ]
  },
  {
   "cell_type": "markdown",
   "metadata": {},
   "source": [
    "# Preprocessing complete"
   ]
  },
  {
   "cell_type": "code",
   "execution_count": 21,
   "metadata": {},
   "outputs": [],
   "source": [
    "import pickle"
   ]
  },
  {
   "cell_type": "code",
   "execution_count": 22,
   "metadata": {},
   "outputs": [],
   "source": [
    "# Save as pickle\n",
    "with open(\"preprocessed_data.pkl\", \"wb\") as f:\n",
    "    pickle.dump(data, f)"
   ]
  },
  {
   "cell_type": "markdown",
   "metadata": {},
   "source": [
    "# Day 2"
   ]
  },
  {
   "cell_type": "code",
   "execution_count": 23,
   "metadata": {},
   "outputs": [],
   "source": [
    "import pandas as pd\n",
    "import numpy as np\n",
    "import string\n",
    "import tensorflow as tf\n",
    "from string import digits\n",
    "import matplotlib.pyplot as plt\n",
    "%matplotlib inline\n",
    "import re\n",
    "from sklearn.utils import shuffle\n",
    "from sklearn.model_selection import train_test_split\n",
    "from tensorflow.keras.layers import Input,LSTM,Embedding,Dense,Bidirectional\n",
    "from tensorflow.keras.models import Model"
   ]
  },
  {
   "cell_type": "markdown",
   "metadata": {},
   "source": [
    "We are going to load the preprocessed data stored as pickle file."
   ]
  },
  {
   "cell_type": "code",
   "execution_count": 24,
   "metadata": {},
   "outputs": [
    {
     "data": {
      "text/html": [
       "<div>\n",
       "<style scoped>\n",
       "    .dataframe tbody tr th:only-of-type {\n",
       "        vertical-align: middle;\n",
       "    }\n",
       "\n",
       "    .dataframe tbody tr th {\n",
       "        vertical-align: top;\n",
       "    }\n",
       "\n",
       "    .dataframe thead th {\n",
       "        text-align: right;\n",
       "    }\n",
       "</style>\n",
       "<table border=\"1\" class=\"dataframe\">\n",
       "  <thead>\n",
       "    <tr style=\"text-align: right;\">\n",
       "      <th></th>\n",
       "      <th>English</th>\n",
       "      <th>Hindi</th>\n",
       "    </tr>\n",
       "  </thead>\n",
       "  <tbody>\n",
       "    <tr>\n",
       "      <th>1438</th>\n",
       "      <td>when did the accident happen</td>\n",
       "      <td>START_ हादसा कब हुआ _END</td>\n",
       "    </tr>\n",
       "    <tr>\n",
       "      <th>1115</th>\n",
       "      <td>were here to protect you</td>\n",
       "      <td>START_ हम आपकी रक्षा करने के लिए यहाँ आए हैं _END</td>\n",
       "    </tr>\n",
       "    <tr>\n",
       "      <th>371</th>\n",
       "      <td>he cried and cried</td>\n",
       "      <td>START_ वह रोया और और रोया _END</td>\n",
       "    </tr>\n",
       "    <tr>\n",
       "      <th>999</th>\n",
       "      <td>a is times as long as b</td>\n",
       "      <td>START_ a b से पाँचगुना लम्बा है _END</td>\n",
       "    </tr>\n",
       "    <tr>\n",
       "      <th>1903</th>\n",
       "      <td>you had better not read this book</td>\n",
       "      <td>START_ तुम यह किताब न ही पढ़ो बेहतर होगा _END</td>\n",
       "    </tr>\n",
       "  </tbody>\n",
       "</table>\n",
       "</div>"
      ],
      "text/plain": [
       "                                English  \\\n",
       "1438       when did the accident happen   \n",
       "1115           were here to protect you   \n",
       "371                  he cried and cried   \n",
       "999             a is times as long as b   \n",
       "1903  you had better not read this book   \n",
       "\n",
       "                                                  Hindi  \n",
       "1438                           START_ हादसा कब हुआ _END  \n",
       "1115  START_ हम आपकी रक्षा करने के लिए यहाँ आए हैं _END  \n",
       "371                      START_ वह रोया और और रोया _END  \n",
       "999                START_ a b से पाँचगुना लम्बा है _END  \n",
       "1903      START_ तुम यह किताब न ही पढ़ो बेहतर होगा _END  "
      ]
     },
     "execution_count": 24,
     "metadata": {},
     "output_type": "execute_result"
    }
   ],
   "source": [
    "import pickle\n",
    "\n",
    "\n",
    "# Load it back\n",
    "with open(\"preprocessed_data.pkl\", \"rb\") as f:\n",
    "    data = pickle.load(f)\n",
    "\n",
    "data.head()\n"
   ]
  },
  {
   "cell_type": "code",
   "execution_count": 25,
   "metadata": {},
   "outputs": [
    {
     "name": "stdout",
     "output_type": "stream",
     "text": [
      "Loaded Variables:\n",
      "num_encoder_tokens: 1671\n",
      "num_decoder_tokens: 2058\n",
      "max_length_src: 9\n",
      "max_length_tar: 14\n"
     ]
    }
   ],
   "source": [
    "# Load the data from the pickle file\n",
    "with open(\"variables.pkl\", \"rb\") as f:\n",
    "    loaded_data = pickle.load(f)\n",
    "\n",
    "# Extract variables\n",
    "input_token_index = loaded_data[\"input_token_index\"]\n",
    "target_token_index = loaded_data[\"target_token_index\"]\n",
    "reverse_input_char_index = loaded_data[\"reverse_input_char_index\"]\n",
    "reverse_target_char_index = loaded_data[\"reverse_target_char_index\"]\n",
    "num_encoder_tokens = loaded_data[\"num_encoder_tokens\"]\n",
    "num_decoder_tokens = loaded_data[\"num_decoder_tokens\"]\n",
    "max_length_src = loaded_data[\"max_length_src\"]\n",
    "max_length_tar = loaded_data[\"max_lenght_tar\"]  # Ensure correct spelling\n",
    "\n",
    "# Print loaded data (Optional)\n",
    "print(\"Loaded Variables:\")\n",
    "print(f\"num_encoder_tokens: {num_encoder_tokens}\")\n",
    "print(f\"num_decoder_tokens: {num_decoder_tokens}\")\n",
    "print(f\"max_length_src: {max_length_src}\")\n",
    "print(f\"max_length_tar: {max_length_tar}\")"
   ]
  },
  {
   "cell_type": "code",
   "execution_count": 26,
   "metadata": {},
   "outputs": [],
   "source": [
    "data['inp_len']=data.English.apply(lambda x:len(x.split()))\n",
    "data['tar_len']=data.Hindi.apply(lambda x:len(x.split()))"
   ]
  },
  {
   "cell_type": "code",
   "execution_count": 27,
   "metadata": {},
   "outputs": [
    {
     "data": {
      "text/html": [
       "<div>\n",
       "<style scoped>\n",
       "    .dataframe tbody tr th:only-of-type {\n",
       "        vertical-align: middle;\n",
       "    }\n",
       "\n",
       "    .dataframe tbody tr th {\n",
       "        vertical-align: top;\n",
       "    }\n",
       "\n",
       "    .dataframe thead th {\n",
       "        text-align: right;\n",
       "    }\n",
       "</style>\n",
       "<table border=\"1\" class=\"dataframe\">\n",
       "  <thead>\n",
       "    <tr style=\"text-align: right;\">\n",
       "      <th></th>\n",
       "      <th>English</th>\n",
       "      <th>Hindi</th>\n",
       "      <th>inp_len</th>\n",
       "      <th>tar_len</th>\n",
       "    </tr>\n",
       "  </thead>\n",
       "  <tbody>\n",
       "    <tr>\n",
       "      <th>1966</th>\n",
       "      <td>its more difficult than you think</td>\n",
       "      <td>START_ जितना तुम सोच रहे हो उतना आसान नहीं है ...</td>\n",
       "      <td>6</td>\n",
       "      <td>11</td>\n",
       "    </tr>\n",
       "    <tr>\n",
       "      <th>541</th>\n",
       "      <td>i am a stranger here</td>\n",
       "      <td>START_ मुझे यहाँ पर अजनबी के जैसा महसूस होता ह...</td>\n",
       "      <td>5</td>\n",
       "      <td>11</td>\n",
       "    </tr>\n",
       "    <tr>\n",
       "      <th>153</th>\n",
       "      <td>he was hard up</td>\n",
       "      <td>START_ उसको पैसों की कमी थी _END</td>\n",
       "      <td>4</td>\n",
       "      <td>7</td>\n",
       "    </tr>\n",
       "    <tr>\n",
       "      <th>665</th>\n",
       "      <td>please throw the ball</td>\n",
       "      <td>START_ गेंद फेंकिए _END</td>\n",
       "      <td>4</td>\n",
       "      <td>4</td>\n",
       "    </tr>\n",
       "    <tr>\n",
       "      <th>1200</th>\n",
       "      <td>there is a bag on the desk</td>\n",
       "      <td>START_ मेज़ पर बस्ता रखा हुआ है _END</td>\n",
       "      <td>7</td>\n",
       "      <td>8</td>\n",
       "    </tr>\n",
       "  </tbody>\n",
       "</table>\n",
       "</div>"
      ],
      "text/plain": [
       "                                English  \\\n",
       "1966  its more difficult than you think   \n",
       "541                i am a stranger here   \n",
       "153                      he was hard up   \n",
       "665               please throw the ball   \n",
       "1200         there is a bag on the desk   \n",
       "\n",
       "                                                  Hindi  inp_len  tar_len  \n",
       "1966  START_ जितना तुम सोच रहे हो उतना आसान नहीं है ...        6       11  \n",
       "541   START_ मुझे यहाँ पर अजनबी के जैसा महसूस होता ह...        5       11  \n",
       "153                    START_ उसको पैसों की कमी थी _END        4        7  \n",
       "665                             START_ गेंद फेंकिए _END        4        4  \n",
       "1200               START_ मेज़ पर बस्ता रखा हुआ है _END        7        8  "
      ]
     },
     "execution_count": 27,
     "metadata": {},
     "output_type": "execute_result"
    }
   ],
   "source": [
    "data.sample(5)"
   ]
  },
  {
   "cell_type": "code",
   "execution_count": 28,
   "metadata": {},
   "outputs": [
    {
     "data": {
      "text/plain": [
       "((1400,), (600,))"
      ]
     },
     "execution_count": 28,
     "metadata": {},
     "output_type": "execute_result"
    }
   ],
   "source": [
    "X,y=data.English,data.Hindi\n",
    "X_train,X_test,y_train,y_test=train_test_split(X,y,test_size=0.3,random_state=42)\n",
    "X_train.shape,X_test.shape"
   ]
  },
  {
   "cell_type": "code",
   "execution_count": 29,
   "metadata": {},
   "outputs": [],
   "source": [
    "X_train.to_pickle('X_train.pkl')\n",
    "X_test.to_pickle('X_test.pkl')"
   ]
  },
  {
   "cell_type": "code",
   "execution_count": 30,
   "metadata": {},
   "outputs": [],
   "source": [
    "import pickle\n",
    "\n",
    "\n",
    "# Load it back\n",
    "with open(\"X_train.pkl\", \"rb\") as f:\n",
    "    X_train = pickle.load(f)\n",
    "with open(\"X_test.pkl\", \"rb\") as f:\n",
    "    X_test = pickle.load(f)\n"
   ]
  },
  {
   "cell_type": "code",
   "execution_count": 31,
   "metadata": {},
   "outputs": [],
   "source": [
    "def generate_batch(X, y, batch_size):\n",
    "    while True:\n",
    "        for j in range(0, len(X), batch_size):\n",
    "            current_batch_size = min(batch_size, len(X) - j)\n",
    "            \n",
    "            encoder_input_data = np.zeros((current_batch_size, max_length_src), dtype='float32')\n",
    "            decoder_input_data = np.zeros((current_batch_size, max_length_tar), dtype='float32')\n",
    "            decoder_target_data = np.zeros((current_batch_size, max_length_tar, num_decoder_tokens), dtype='float32')\n",
    "\n",
    "            for i, (input_text, target_text) in enumerate(zip(X[j:j+batch_size], y[j:j+batch_size])):\n",
    "                input_words = input_text.split()\n",
    "                target_words = target_text.split()\n",
    "                \n",
    "                # Fill encoder_input_data\n",
    "                for t, word in enumerate(input_words):\n",
    "                    encoder_input_data[i, t] = input_token_index.get(word, 0)  # Handle unknown words\n",
    "                \n",
    "                # Fill decoder_input_data and decoder_target_data\n",
    "                for t, word in enumerate(target_words):\n",
    "                    decoder_input_data[i, t] = target_token_index.get(word, 0)\n",
    "                    if t > 0:\n",
    "                        decoder_target_data[i, t - 1, target_token_index.get(word, 0)] = 1.0  # One-hot\n",
    "\n",
    "            # print(f\"Batch generated: encoder_input_data shape: {encoder_input_data.shape}, \"\n",
    "            #       f\"decoder_input_data shape: {decoder_input_data.shape}, \"\n",
    "            #       f\"decoder_target_data shape: {decoder_target_data.shape}\")\n",
    "\n",
    "            yield ([encoder_input_data, decoder_input_data], decoder_target_data)\n"
   ]
  },
  {
   "cell_type": "markdown",
   "metadata": {},
   "source": [
    "This function, generate_batch(), is a generator that yields batches of data for training a sequence-to-sequence (Seq2Seq) model. It processes input (X) and target (y) sequences, converting them into numerical representations for an encoder-decoder architecture.\n",
    "\n",
    "Key Steps:\n",
    "1. Iterates through X and y in batches of size batch_size.\n",
    "2.Initializes three NumPy arrays for:\n",
    "    1. encoder_input_data (encoder input sequences)\n",
    "    2. decoder_input_data (decoder input sequences)\n",
    "    3. decoder_target_data (decoder target sequences, one-hot encoded).\n",
    "3. Converts words into indices using input_token_index and target_token_index.\n",
    "4. Uses one-hot encoding for decoder_target_data.\n",
    "5. Yields data in the format ([encoder_input_data, decoder_input_data], decoder_target_data), which is used for training the model."
   ]
  },
  {
   "cell_type": "code",
   "execution_count": 32,
   "metadata": {},
   "outputs": [
    {
     "data": {
      "text/plain": [
       "'Initially, I tried with 20, it gave me accuracy upto 13.53 , then I tried 100 which gives me a max accuracy of 85.\\n    There is a scope of improvement! May be if it was 150 or 200, we can expect some improvement'"
      ]
     },
     "execution_count": 32,
     "metadata": {},
     "output_type": "execute_result"
    }
   ],
   "source": [
    "latent_dim=100 \n",
    "'''Initially, I tried with 20, it gave me accuracy upto 13.53 , then I tried 100 which gives me a max accuracy of 85.\n",
    "    There is a scope of improvement! May be if it was 150 or 200, we can expect some improvement'''"
   ]
  },
  {
   "cell_type": "code",
   "execution_count": 33,
   "metadata": {},
   "outputs": [],
   "source": [
    "from keras.layers import Concatenate\n"
   ]
  },
  {
   "cell_type": "code",
   "execution_count": 34,
   "metadata": {},
   "outputs": [],
   "source": [
    "encoder_inputs = Input(shape=(None,))\n",
    "enc_emb = Embedding(input_dim=num_encoder_tokens+1, output_dim=latent_dim, mask_zero=True)(encoder_inputs)\n",
    "\n",
    "# Use Bidirectional wrapper\n",
    "encoder_lstm = Bidirectional(LSTM(units=latent_dim, return_state=True, return_sequences=False))\n",
    "encoder_outputs, forward_h, forward_c, backward_h, backward_c = encoder_lstm(enc_emb)\n",
    "\n",
    "# Concatenating the forward and backward states\n",
    "state_h = Concatenate()([forward_h, backward_h])\n",
    "state_c = Concatenate()([forward_c, backward_c])\n",
    "\n",
    "# Final encoder states\n",
    "encoder_states = [state_h, state_c]\n"
   ]
  },
  {
   "cell_type": "markdown",
   "metadata": {},
   "source": [
    "# Summary of the Encoder Model\n",
    "**Input Layer:\n",
    "\n",
    "1. Accepts variable-length sequences (shape=(None,)).\n",
    "2. Uses embedding (Embedding) to convert token indices into dense vectors.\n",
    "3. mask_zero=True ensures padding tokens are ignored.\n",
    "\n",
    "**Bidirectional LSTM:\n",
    "\n",
    "1. Processes input in both forward and backward directions for better context understanding.\n",
    "2. return_state=True: Outputs hidden and cell states.\n",
    "3. return_sequences=False: Only final states are retained.\n",
    "\n",
    "**State Concatenation:\n",
    "\n",
    "1. The forward and backward LSTM states are concatenated to form:\n",
    "2. state_h (concatenated hidden states).\n",
    "3. state_c (concatenated cell states).\n",
    "\n",
    "**Final Encoder States:\n",
    "\n",
    "These concatenated states (encoder_states = [state_h, state_c]) are passed to the decoder for translation generation."
   ]
  },
  {
   "cell_type": "code",
   "execution_count": 35,
   "metadata": {},
   "outputs": [],
   "source": [
    "from tensorflow.keras.layers import Input, LSTM, Dense, Embedding\n",
    "\n",
    "# Decoder Inputs\n",
    "decoder_inputs = Input(shape=(None,))\n",
    "decoder_emb_layer = Embedding(input_dim=num_decoder_tokens, output_dim=latent_dim, mask_zero=True)\n",
    "dec_emb = decoder_emb_layer(decoder_inputs)\n",
    "\n",
    "# Adjust the LSTM units to match the new encoder state size (2 * latent_dim)\n",
    "decoder_lstm = LSTM(units=2 * latent_dim, return_sequences=True, return_state=True)\n",
    "\n",
    "# Since encoder states are now twice the size, they are passed directly\n",
    "decoder_outputs, _, _ = decoder_lstm(dec_emb, initial_state=encoder_states)\n",
    "\n",
    "# Dense layer for final output\n",
    "decoder_dense = Dense(units=num_decoder_tokens, activation='softmax')\n",
    "decoder_outputs = decoder_dense(decoder_outputs)\n",
    "\n",
    "# Define the full translator model\n",
    "translator = Model([encoder_inputs, decoder_inputs], decoder_outputs)\n"
   ]
  },
  {
   "cell_type": "markdown",
   "metadata": {},
   "source": [
    "# Summary of the Decoder Model\n",
    "** Decoder Inputs:\n",
    "\n",
    "1. Accepts variable-length sequences (shape=(None,)).\n",
    "2. Uses an embedding layer (Embedding) to convert token indices into dense vectors.\n",
    "3. mask_zero=True ensures padding tokens are ignored.\n",
    "\n",
    "** LSTM Layer (Decoder):\n",
    "\n",
    "1. Uses LSTM with 2 * latent_dim units to match the encoder's concatenated state size.\n",
    "2. return_sequences=True ensures an output at every time step.\n",
    "3. return_state=True (though not used here, it's useful for inference).\n",
    "4. Takes encoder states (encoder_states) as initial states.\n",
    "\n",
    "** Dense Output Layer:\n",
    "\n",
    "Fully connected Dense layer with softmax activation to generate probabilities over num_decoder_tokens.\n",
    "\n",
    "** Final Model:\n",
    "\n",
    "1. Inputs: [encoder_inputs, decoder_inputs]\n",
    "2. Outputs: decoder_outputs (predicted token probabilities).\n",
    "\n",
    "**Purpose: Translates input sequences to target sequences using sequence-to-sequence learning. "
   ]
  },
  {
   "cell_type": "code",
   "execution_count": 36,
   "metadata": {},
   "outputs": [],
   "source": [
    "optimizer=tf.keras.optimizers.RMSprop(learning_rate=0.001)"
   ]
  },
  {
   "cell_type": "code",
   "execution_count": 37,
   "metadata": {},
   "outputs": [],
   "source": [
    "translator.compile(optimizer=optimizer, \n",
    "              loss='categorical_crossentropy', \n",
    "              metrics=['accuracy'],run_eagerly=True\n",
    "             )\n",
    "# steps_per_execution=10"
   ]
  },
  {
   "cell_type": "code",
   "execution_count": 38,
   "metadata": {},
   "outputs": [
    {
     "name": "stdout",
     "output_type": "stream",
     "text": [
      "Model: \"model\"\n",
      "__________________________________________________________________________________________________\n",
      " Layer (type)                   Output Shape         Param #     Connected to                     \n",
      "==================================================================================================\n",
      " input_1 (InputLayer)           [(None, None)]       0           []                               \n",
      "                                                                                                  \n",
      " embedding (Embedding)          (None, None, 100)    167200      ['input_1[0][0]']                \n",
      "                                                                                                  \n",
      " input_2 (InputLayer)           [(None, None)]       0           []                               \n",
      "                                                                                                  \n",
      " bidirectional (Bidirectional)  [(None, 200),        160800      ['embedding[0][0]']              \n",
      "                                 (None, 100),                                                     \n",
      "                                 (None, 100),                                                     \n",
      "                                 (None, 100),                                                     \n",
      "                                 (None, 100)]                                                     \n",
      "                                                                                                  \n",
      " embedding_1 (Embedding)        (None, None, 100)    205800      ['input_2[0][0]']                \n",
      "                                                                                                  \n",
      " concatenate (Concatenate)      (None, 200)          0           ['bidirectional[0][1]',          \n",
      "                                                                  'bidirectional[0][3]']          \n",
      "                                                                                                  \n",
      " concatenate_1 (Concatenate)    (None, 200)          0           ['bidirectional[0][2]',          \n",
      "                                                                  'bidirectional[0][4]']          \n",
      "                                                                                                  \n",
      " lstm_1 (LSTM)                  [(None, None, 200),  240800      ['embedding_1[0][0]',            \n",
      "                                 (None, 200),                     'concatenate[0][0]',            \n",
      "                                 (None, 200)]                     'concatenate_1[0][0]']          \n",
      "                                                                                                  \n",
      " dense (Dense)                  (None, None, 2058)   413658      ['lstm_1[0][0]']                 \n",
      "                                                                                                  \n",
      "==================================================================================================\n",
      "Total params: 1,188,258\n",
      "Trainable params: 1,188,258\n",
      "Non-trainable params: 0\n",
      "__________________________________________________________________________________________________\n"
     ]
    }
   ],
   "source": [
    "translator.summary()"
   ]
  },
  {
   "cell_type": "code",
   "execution_count": 39,
   "metadata": {},
   "outputs": [],
   "source": [
    "train_samples=len(X_train)\n",
    "val_samples=len(X_test)\n",
    "batch_size=64\n",
    "epochs=20\n",
    "steps_per_epoch=train_samples//batch_size,\n",
    "validation_steps=val_samples//batch_size"
   ]
  },
  {
   "cell_type": "code",
   "execution_count": 40,
   "metadata": {},
   "outputs": [
    {
     "name": "stdout",
     "output_type": "stream",
     "text": [
      "Epoch 1/250\n",
      "21/21 [==============================] - 8s 382ms/step - loss: 3.0915 - accuracy: 0.1226 - val_loss: 2.7625 - val_accuracy: 0.1303\n",
      "Epoch 2/250\n",
      "21/21 [==============================] - 8s 405ms/step - loss: 2.6984 - accuracy: 0.1310 - val_loss: 2.7093 - val_accuracy: 0.1412\n",
      "Epoch 3/250\n",
      "21/21 [==============================] - 8s 409ms/step - loss: 2.6046 - accuracy: 0.1430 - val_loss: 2.6825 - val_accuracy: 0.1460\n",
      "Epoch 4/250\n",
      "21/21 [==============================] - 9s 423ms/step - loss: 2.5448 - accuracy: 0.1460 - val_loss: 2.6699 - val_accuracy: 0.1521\n",
      "Epoch 5/250\n",
      "21/21 [==============================] - 8s 394ms/step - loss: 2.4848 - accuracy: 0.1521 - val_loss: 2.6725 - val_accuracy: 0.1518\n",
      "Epoch 6/250\n",
      "21/21 [==============================] - 8s 373ms/step - loss: 2.4467 - accuracy: 0.1553 - val_loss: 2.6767 - val_accuracy: 0.1557\n",
      "Epoch 7/250\n",
      "21/21 [==============================] - 8s 383ms/step - loss: 2.3948 - accuracy: 0.1583 - val_loss: 2.6855 - val_accuracy: 0.1598\n",
      "Epoch 8/250\n",
      "21/21 [==============================] - 8s 401ms/step - loss: 2.3527 - accuracy: 0.1619 - val_loss: 2.6832 - val_accuracy: 0.1636\n",
      "Epoch 9/250\n",
      "21/21 [==============================] - 8s 390ms/step - loss: 2.3086 - accuracy: 0.1694 - val_loss: 2.6793 - val_accuracy: 0.1677\n",
      "Epoch 10/250\n",
      "21/21 [==============================] - 8s 387ms/step - loss: 2.2595 - accuracy: 0.1762 - val_loss: 2.6761 - val_accuracy: 0.1711\n",
      "Epoch 11/250\n",
      "21/21 [==============================] - 9s 439ms/step - loss: 2.2179 - accuracy: 0.1831 - val_loss: 2.6836 - val_accuracy: 0.1702\n",
      "Epoch 12/250\n",
      "21/21 [==============================] - 9s 419ms/step - loss: 2.1702 - accuracy: 0.1861 - val_loss: 2.6753 - val_accuracy: 0.1761\n",
      "Epoch 13/250\n",
      "21/21 [==============================] - 8s 382ms/step - loss: 2.1310 - accuracy: 0.1954 - val_loss: 2.6701 - val_accuracy: 0.1797\n",
      "Epoch 14/250\n",
      "21/21 [==============================] - 9s 410ms/step - loss: 2.0921 - accuracy: 0.1987 - val_loss: 2.6464 - val_accuracy: 0.1842\n",
      "Epoch 15/250\n",
      "21/21 [==============================] - 8s 400ms/step - loss: 2.0500 - accuracy: 0.2047 - val_loss: 2.6447 - val_accuracy: 0.1856\n",
      "Epoch 16/250\n",
      "21/21 [==============================] - 8s 393ms/step - loss: 2.0111 - accuracy: 0.2097 - val_loss: 2.6347 - val_accuracy: 0.1908\n",
      "Epoch 17/250\n",
      "21/21 [==============================] - 9s 439ms/step - loss: 1.9688 - accuracy: 0.2175 - val_loss: 2.6339 - val_accuracy: 0.1937\n",
      "Epoch 18/250\n",
      "21/21 [==============================] - 9s 409ms/step - loss: 1.9456 - accuracy: 0.2199 - val_loss: 2.6264 - val_accuracy: 0.1937\n",
      "Epoch 19/250\n",
      "21/21 [==============================] - 10s 482ms/step - loss: 1.9012 - accuracy: 0.2270 - val_loss: 2.6241 - val_accuracy: 0.1928\n",
      "Epoch 20/250\n",
      "21/21 [==============================] - 8s 406ms/step - loss: 1.8705 - accuracy: 0.2294 - val_loss: 2.6273 - val_accuracy: 0.1937\n",
      "Epoch 21/250\n",
      "21/21 [==============================] - 8s 405ms/step - loss: 1.8402 - accuracy: 0.2356 - val_loss: 2.6231 - val_accuracy: 0.1935\n",
      "Epoch 22/250\n",
      "21/21 [==============================] - 8s 381ms/step - loss: 1.8065 - accuracy: 0.2387 - val_loss: 2.6264 - val_accuracy: 0.1944\n",
      "Epoch 23/250\n",
      "21/21 [==============================] - 8s 380ms/step - loss: 1.7912 - accuracy: 0.2455 - val_loss: 2.6227 - val_accuracy: 0.1942\n",
      "Epoch 24/250\n",
      "21/21 [==============================] - 8s 406ms/step - loss: 1.7481 - accuracy: 0.2515 - val_loss: 2.6277 - val_accuracy: 0.1976\n",
      "Epoch 25/250\n",
      "21/21 [==============================] - 9s 414ms/step - loss: 1.7210 - accuracy: 0.2550 - val_loss: 2.6301 - val_accuracy: 0.2014\n",
      "Epoch 26/250\n",
      "21/21 [==============================] - 10s 483ms/step - loss: 1.6959 - accuracy: 0.2620 - val_loss: 2.6219 - val_accuracy: 0.2064\n",
      "Epoch 27/250\n",
      "21/21 [==============================] - 9s 431ms/step - loss: 1.6628 - accuracy: 0.2665 - val_loss: 2.6239 - val_accuracy: 0.2086\n",
      "Epoch 28/250\n",
      "21/21 [==============================] - 11s 506ms/step - loss: 1.6401 - accuracy: 0.2716 - val_loss: 2.6280 - val_accuracy: 0.2089\n",
      "Epoch 29/250\n",
      "21/21 [==============================] - 10s 492ms/step - loss: 1.6087 - accuracy: 0.2782 - val_loss: 2.6300 - val_accuracy: 0.2071\n",
      "Epoch 30/250\n",
      "21/21 [==============================] - 12s 586ms/step - loss: 1.5812 - accuracy: 0.2821 - val_loss: 2.6426 - val_accuracy: 0.2089\n",
      "Epoch 31/250\n",
      "21/21 [==============================] - 8s 397ms/step - loss: 1.5544 - accuracy: 0.2899 - val_loss: 2.6385 - val_accuracy: 0.2116\n",
      "Epoch 32/250\n",
      "21/21 [==============================] - 8s 395ms/step - loss: 1.5230 - accuracy: 0.2978 - val_loss: 2.6355 - val_accuracy: 0.2116\n",
      "Epoch 33/250\n",
      "21/21 [==============================] - 9s 430ms/step - loss: 1.4978 - accuracy: 0.3028 - val_loss: 2.6376 - val_accuracy: 0.2148\n",
      "Epoch 34/250\n",
      "21/21 [==============================] - 8s 405ms/step - loss: 1.4691 - accuracy: 0.3075 - val_loss: 2.6387 - val_accuracy: 0.2127\n",
      "Epoch 35/250\n",
      "21/21 [==============================] - 8s 393ms/step - loss: 1.4395 - accuracy: 0.3198 - val_loss: 2.6342 - val_accuracy: 0.2175\n",
      "Epoch 36/250\n",
      "21/21 [==============================] - 8s 397ms/step - loss: 1.4220 - accuracy: 0.3215 - val_loss: 2.6381 - val_accuracy: 0.2168\n",
      "Epoch 37/250\n",
      "21/21 [==============================] - 9s 430ms/step - loss: 1.3921 - accuracy: 0.3342 - val_loss: 2.6408 - val_accuracy: 0.2238\n",
      "Epoch 38/250\n",
      "21/21 [==============================] - 8s 406ms/step - loss: 1.3661 - accuracy: 0.3393 - val_loss: 2.6466 - val_accuracy: 0.2252\n",
      "Epoch 39/250\n",
      "21/21 [==============================] - 10s 496ms/step - loss: 1.3374 - accuracy: 0.3471 - val_loss: 2.6585 - val_accuracy: 0.2220\n",
      "Epoch 40/250\n",
      "21/21 [==============================] - 12s 566ms/step - loss: 1.3208 - accuracy: 0.3555 - val_loss: 2.6644 - val_accuracy: 0.2218\n",
      "Epoch 41/250\n",
      "21/21 [==============================] - 11s 540ms/step - loss: 1.2895 - accuracy: 0.3672 - val_loss: 2.6740 - val_accuracy: 0.2229\n",
      "Epoch 42/250\n",
      "21/21 [==============================] - 12s 556ms/step - loss: 1.2672 - accuracy: 0.3728 - val_loss: 2.6728 - val_accuracy: 0.2258\n",
      "Epoch 43/250\n",
      "21/21 [==============================] - 11s 506ms/step - loss: 1.2427 - accuracy: 0.3855 - val_loss: 2.6755 - val_accuracy: 0.2274\n",
      "Epoch 44/250\n",
      "21/21 [==============================] - 11s 538ms/step - loss: 1.2181 - accuracy: 0.3894 - val_loss: 2.6927 - val_accuracy: 0.2261\n",
      "Epoch 45/250\n",
      "21/21 [==============================] - 11s 545ms/step - loss: 1.2076 - accuracy: 0.4010 - val_loss: 2.6916 - val_accuracy: 0.2308\n",
      "Epoch 46/250\n",
      "21/21 [==============================] - 10s 462ms/step - loss: 1.1723 - accuracy: 0.4094 - val_loss: 2.6942 - val_accuracy: 0.2297\n",
      "Epoch 47/250\n",
      "21/21 [==============================] - 9s 433ms/step - loss: 1.1490 - accuracy: 0.4200 - val_loss: 2.6890 - val_accuracy: 0.2338\n",
      "Epoch 48/250\n",
      "21/21 [==============================] - 9s 434ms/step - loss: 1.1301 - accuracy: 0.4267 - val_loss: 2.6971 - val_accuracy: 0.2349\n",
      "Epoch 49/250\n",
      "21/21 [==============================] - 9s 422ms/step - loss: 1.1077 - accuracy: 0.4340 - val_loss: 2.7048 - val_accuracy: 0.2360\n",
      "Epoch 50/250\n",
      "21/21 [==============================] - 10s 464ms/step - loss: 1.0884 - accuracy: 0.4476 - val_loss: 2.7199 - val_accuracy: 0.2340\n",
      "Epoch 51/250\n",
      "21/21 [==============================] - 10s 471ms/step - loss: 1.0635 - accuracy: 0.4551 - val_loss: 2.7204 - val_accuracy: 0.2383\n",
      "Epoch 52/250\n",
      "21/21 [==============================] - 9s 433ms/step - loss: 1.0399 - accuracy: 0.4697 - val_loss: 2.7289 - val_accuracy: 0.2383\n",
      "Epoch 53/250\n",
      "21/21 [==============================] - 9s 433ms/step - loss: 1.0196 - accuracy: 0.4725 - val_loss: 2.7474 - val_accuracy: 0.2360\n",
      "Epoch 54/250\n",
      "21/21 [==============================] - 10s 457ms/step - loss: 0.9961 - accuracy: 0.4835 - val_loss: 2.7606 - val_accuracy: 0.2365\n",
      "Epoch 55/250\n",
      "21/21 [==============================] - 9s 425ms/step - loss: 0.9775 - accuracy: 0.4912 - val_loss: 2.7663 - val_accuracy: 0.2342\n",
      "Epoch 56/250\n",
      "21/21 [==============================] - 9s 449ms/step - loss: 0.9522 - accuracy: 0.5036 - val_loss: 2.7611 - val_accuracy: 0.2403\n",
      "Epoch 57/250\n",
      "21/21 [==============================] - 10s 467ms/step - loss: 0.9314 - accuracy: 0.5099 - val_loss: 2.7760 - val_accuracy: 0.2374\n",
      "Epoch 58/250\n",
      "21/21 [==============================] - 15s 708ms/step - loss: 0.9126 - accuracy: 0.5203 - val_loss: 2.7808 - val_accuracy: 0.2408\n",
      "Epoch 59/250\n",
      "21/21 [==============================] - 10s 459ms/step - loss: 0.8941 - accuracy: 0.5248 - val_loss: 2.7890 - val_accuracy: 0.2376\n",
      "Epoch 60/250\n",
      " 2/21 [=>............................] - ETA: 6s - loss: 0.8844 - accuracy: 0.5252"
     ]
    }
   ],
   "source": [
    " translator.fit(\n",
    "    generate_batch(X_train, y_train, batch_size),\n",
    "    steps_per_epoch=train_samples//batch_size,\n",
    "    epochs=250,\n",
    "    validation_data=generate_batch(X_test, y_test, batch_size),\n",
    "    validation_steps=val_samples//batch_size   \n",
    " )"
   ]
  },
  {
   "cell_type": "markdown",
   "metadata": {},
   "source": [
    "### **Summary of Model Training Process**  \n",
    "\n",
    "1. **Training Data Generator:**  \n",
    "   - Uses `generate_batch(X_train, y_train, batch_size)` to feed data in batches dynamically.  \n",
    "   - Helps manage memory efficiently instead of loading the entire dataset at once.  \n",
    "\n",
    "2. **Steps Per Epoch:**  \n",
    "   - Defined as `train_samples // batch_size`, ensuring the model sees the entire dataset in one epoch.  \n",
    "\n",
    "3. **Epochs:**  \n",
    "   - The model trains for **250 epochs** to allow sufficient learning.  \n",
    "\n",
    "4. **Validation Data:**  \n",
    "   - Uses `generate_batch(X_test, y_test, batch_size)` to evaluate performance on unseen data.  \n",
    "   - `validation_steps = val_samples // batch_size` ensures proper validation dataset coverage.  \n",
    "\n",
    "5. **Purpose:**  \n",
    "   - This setup trains the **sequence-to-sequence model** for language translation using **batch-based training** with **real-time data generation**, making it efficient and scalable. "
   ]
  },
  {
   "cell_type": "code",
   "execution_count": null,
   "metadata": {},
   "outputs": [
    {
     "data": {
      "image/png": "[encoded data removed]",
      "text/plain": [
       "<IPython.core.display.Image object>"
      ]
     },
     "execution_count": 83,
     "metadata": {},
     "output_type": "execute_result"
    }
   ],
   "source": [
    "from keras.utils import plot_model\n",
    "plot_model(translator,show_shapes=True)"
   ]
  },
  {
   "cell_type": "markdown",
   "metadata": {},
   "source": [
    "# The Model's architecture"
   ]
  },
  {
   "cell_type": "code",
   "execution_count": null,
   "metadata": {},
   "outputs": [
    {
     "data": {
      "text/plain": [
       "'Saving the weights of the trained model'"
      ]
     },
     "execution_count": 82,
     "metadata": {},
     "output_type": "execute_result"
    }
   ],
   "source": [
    "#translator.save_weights('translator_weights.h5')\n",
    "'''Saving the weights of the trained model'''"
   ]
  },
  {
   "cell_type": "code",
   "execution_count": null,
   "metadata": {},
   "outputs": [],
   "source": [
    "translator.load_weights('translator_weights.h5')"
   ]
  },
  {
   "cell_type": "code",
   "execution_count": null,
   "metadata": {},
   "outputs": [],
   "source": [
    "#Encode the input sequence to get the \"Context vectors\"\n",
    "encoder_model=Model(encoder_inputs, encoder_states)\n",
    "\n",
    "# Adjust decoder state inputs to match bidirectional encoder\n",
    "decoder_state_input_h = Input(shape=(2 * latent_dim,))\n",
    "decoder_state_input_c = Input(shape=(2 * latent_dim,))\n",
    "decoder_states_inputs = [decoder_state_input_h, decoder_state_input_c]\n",
    "\n",
    "dec_emb2 = decoder_emb_layer(decoder_inputs)  # Decoder embeddings\n",
    "\n",
    "# Decoder LSTM should also have 2 * latent_dim units\n",
    "decoder_outputs2, state_h2, state_c2 = decoder_lstm(dec_emb2, \n",
    "                                                     initial_state=decoder_states_inputs)\n",
    "\n",
    "decoder_states2 = [state_h2, state_c2]\n",
    "decoder_outputs2 = decoder_dense(decoder_outputs2)  # Softmax layer for word prediction\n",
    "\n",
    "# Final Inference Decoder Model\n",
    "decoder_model = Model(\n",
    "    [decoder_inputs] + decoder_states_inputs,  # Inputs: target word + previous states\n",
    "    [decoder_outputs2] + decoder_states2  # Outputs: predicted word + updated states\n",
    ")\n"
   ]
  },
  {
   "cell_type": "markdown",
   "metadata": {},
   "source": [
    "### **Summary of Inference Model (Encoder & Decoder for Translation)**  \n",
    "\n",
    "1. **Encoder Model:**  \n",
    "   - Encodes the input sequence into **context vectors (hidden & cell states)**.  \n",
    "   - Used during inference to extract representations of the input sentence.  \n",
    "\n",
    "2. **Decoder Model:**  \n",
    "   - Takes previous word inputs and the encoded **context vectors** to generate translations step by step.  \n",
    "   - Uses **Bidirectional LSTM**, requiring states of size **`2 * latent_dim`**.  \n",
    "\n",
    "3. **Workflow:**  \n",
    "   - **Encoder:** Processes input & generates hidden states.  \n",
    "   - **Decoder:** Takes word embeddings and hidden states to predict the next word.  \n",
    "   - The model is **auto-regressive**, meaning the decoder generates words sequentially.  \n",
    "\n",
    "4. **Purpose:**  \n",
    "   - This setup enables **real-time translation** by generating target words **one at a time**, conditioned on previous predictions. "
   ]
  },
  {
   "cell_type": "code",
   "execution_count": null,
   "metadata": {},
   "outputs": [],
   "source": [
    "def decode_sequence(input_seq):\n",
    "    # Encode the input as state vectors\n",
    "    states_value = encoder_model.predict(input_seq)\n",
    "\n",
    "    # Generate empty target sequence of length 1\n",
    "    target_seq = np.zeros((1, 1))\n",
    "    target_seq[0, 0] = target_token_index['START_']\n",
    "\n",
    "    stop_condition = False\n",
    "    decoded_sentence = ''\n",
    "\n",
    "    while not stop_condition:\n",
    "        # Make sure we're not using previous predictions' states\n",
    "        output_tokens, h, c = decoder_model.predict([target_seq] + states_value)\n",
    "\n",
    "        # Sample a token\n",
    "        sampled_token_index = np.argmax(output_tokens[0, -1, :])\n",
    "        sampled_char = reverse_target_char_index[sampled_token_index]\n",
    "        decoded_sentence += ' ' + sampled_char\n",
    "\n",
    "        # Exit condition: find stop character\n",
    "        if sampled_char == '_END':\n",
    "            stop_condition = True\n",
    "\n",
    "        # Reset target_seq for next step\n",
    "        target_seq = np.zeros((1, 1))\n",
    "        target_seq[0, 0] = sampled_token_index\n",
    "\n",
    "        # Reset states for the next time step\n",
    "        states_value = [h, c]  # **Ensure correct state transfer**\n",
    "    \n",
    "    return decoded_sentence.strip()  # Remove extra spaces\n"
   ]
  },
  {
   "cell_type": "markdown",
   "metadata": {},
   "source": [
    "### **Summary of `decode_sequence` Function**  \n",
    "\n",
    "1. **Purpose:**  \n",
    "   - Generates a translated sentence **one word at a time** using the trained encoder-decoder model.  \n",
    "\n",
    "2. **Process:**  \n",
    "   - **Encoding:** The input sequence is encoded into **context vectors (hidden & cell states)** using the encoder model.  \n",
    "   - **Decoding (Step-by-Step Prediction):**  \n",
    "     - Starts with a **target sequence** containing the special token `'START_'`.  \n",
    "     - Predicts the next word using the **decoder model**.  \n",
    "     - Updates the target sequence with the predicted word.  \n",
    "     - Continues until the special token `'_END'` is generated.  \n",
    "\n",
    "3. **Key Components:**  \n",
    "   - Uses **`np.argmax`** to pick the most probable word at each step.  \n",
    "   - **Ensures state transfer** between decoding steps to maintain context.  \n",
    "   - **Stops generation** when `'_END'` is encountered.  \n",
    "\n",
    "4. **Outcome:**  \n",
    "   - Returns the **fully translated sentence** after stripping unnecessary spaces.  \n",
    "   - Enables **real-time inference** for sentence translation. "
   ]
  },
  {
   "cell_type": "code",
   "execution_count": null,
   "metadata": {},
   "outputs": [],
   "source": [
    "train_gen = generate_batch(X_train, y_train, batch_size = 1)\n",
    "k=-1"
   ]
  },
  {
   "cell_type": "code",
   "execution_count": null,
   "metadata": {},
   "outputs": [
    {
     "name": "stdout",
     "output_type": "stream",
     "text": [
      "1/1 [==============================] - 0s 44ms/step\n",
      "1/1 [==============================] - 0s 49ms/step\n",
      "1/1 [==============================] - 0s 41ms/step\n",
      "1/1 [==============================] - 0s 37ms/step\n",
      "1/1 [==============================] - 0s 43ms/step\n",
      "1/1 [==============================] - 0s 50ms/step\n",
      "1/1 [==============================] - 0s 31ms/step\n",
      "1/1 [==============================] - 0s 25ms/step\n",
      "Input English sentence: this school has many students\n",
      "Actual Hindi Translation:  इस स्कूल में बहुत सारे विद्यार्थी हैं \n",
      "Predicted Hindi Translation: उस गाड़ी ने बहुत धूल उड़ाई \n",
      "--------------------------------------------------\n",
      "1/1 [==============================] - 0s 23ms/step\n",
      "1/1 [==============================] - 0s 26ms/step\n",
      "1/1 [==============================] - 0s 22ms/step\n",
      "1/1 [==============================] - 0s 28ms/step\n",
      "1/1 [==============================] - 0s 21ms/step\n",
      "1/1 [==============================] - 0s 24ms/step\n",
      "1/1 [==============================] - 0s 21ms/step\n",
      "1/1 [==============================] - 0s 22ms/step\n",
      "1/1 [==============================] - 0s 22ms/step\n",
      "Input English sentence: they shouted for help\n",
      "Actual Hindi Translation:  उन्होंने मदद के लिए चिल्लाया \n",
      "Predicted Hindi Translation: मैं तुम्हें यह करने नहीं दे सकता \n",
      "--------------------------------------------------\n",
      "1/1 [==============================] - 0s 29ms/step\n",
      "1/1 [==============================] - 0s 29ms/step\n",
      "1/1 [==============================] - 0s 20ms/step\n",
      "1/1 [==============================] - 0s 16ms/step\n",
      "1/1 [==============================] - 0s 33ms/step\n",
      "1/1 [==============================] - 0s 19ms/step\n",
      "Input English sentence: when are you going to europe\n",
      "Actual Hindi Translation:  तुम यूरोप कब जा रहे हो \n",
      "Predicted Hindi Translation: मेरी याद आई क्या \n",
      "--------------------------------------------------\n",
      "1/1 [==============================] - 0s 31ms/step\n",
      "1/1 [==============================] - 0s 16ms/step\n",
      "1/1 [==============================] - 0s 25ms/step\n",
      "1/1 [==============================] - 0s 17ms/step\n",
      "1/1 [==============================] - 0s 25ms/step\n",
      "1/1 [==============================] - 0s 13ms/step\n",
      "1/1 [==============================] - 0s 12ms/step\n",
      "1/1 [==============================] - 0s 20ms/step\n",
      "1/1 [==============================] - 0s 17ms/step\n",
      "1/1 [==============================] - 0s 25ms/step\n",
      "Input English sentence: are you sure of her coming on time\n",
      "Actual Hindi Translation:  तुम्हे पक्का मालूम है कि वह समय पर आ रही है \n",
      "Predicted Hindi Translation: आप एक और कप चाय पीना चाहेंगे क्या \n",
      "--------------------------------------------------\n",
      "1/1 [==============================] - 0s 21ms/step\n",
      "1/1 [==============================] - 0s 11ms/step\n",
      "1/1 [==============================] - 0s 25ms/step\n",
      "1/1 [==============================] - 0s 13ms/step\n",
      "1/1 [==============================] - 0s 27ms/step\n",
      "1/1 [==============================] - 0s 17ms/step\n",
      "Input English sentence: i can swim\n",
      "Actual Hindi Translation:  मैं तैर सकता हूँ \n",
      "Predicted Hindi Translation: रेलगाड़ी से चलते हैं \n",
      "--------------------------------------------------\n"
     ]
    }
   ],
   "source": [
    "k = 0  # Initialize k before the loop\n",
    "\n",
    "for i in range(5):\n",
    "    k += 1  # Increment k\n",
    "    \n",
    "    # Get input-output pair from the test generator\n",
    "    (input_seq, actual_output), _ = next(train_gen)\n",
    "\n",
    "    # Predict the translation\n",
    "    decoded_sentence = decode_sequence(input_seq)\n",
    "\n",
    "    # Extract corresponding sentences from dataset\n",
    "    input_sentence = X_train.iloc[k][:]  # Use .iloc for proper indexing\n",
    "    actual_translation = y_train.iloc[k][6:-4]  # Adjust slicing if necessary\n",
    "    predicted_translation = decoded_sentence[:-4]  # Remove trailing `_END`\n",
    "\n",
    "    # Print results\n",
    "    print('Input English sentence:', input_sentence)\n",
    "    print('Actual Hindi Translation:', actual_translation)\n",
    "    print('Predicted Hindi Translation:', predicted_translation)\n",
    "    print('-' * 50)\n"
   ]
  },
  {
   "cell_type": "markdown",
   "metadata": {},
   "source": [
    "Well, We aren't getting good results here! At the first go it predicted perfectly but the next time its predicting completely random sentences"
   ]
  },
  {
   "cell_type": "code",
   "execution_count": null,
   "metadata": {},
   "outputs": [],
   "source": [
    "test_gen = generate_batch(X_test, y_test, batch_size = 1)\n",
    "k=-1"
   ]
  },
  {
   "cell_type": "code",
   "execution_count": null,
   "metadata": {},
   "outputs": [],
   "source": [
    "test_gen = generate_batch(X_test, y_test, batch_size = 1)\n",
    "k=-1"
   ]
  },
  {
   "cell_type": "markdown",
   "metadata": {},
   "source": [
    "Although, we are getting good results on the test data. Sometimes it is ompletely correct but sometimes it is not performing that well."
   ]
  },
  {
   "cell_type": "code",
   "execution_count": null,
   "metadata": {},
   "outputs": [
    {
     "name": "stdout",
     "output_type": "stream",
     "text": [
      "1/1 [==============================] - 0s 34ms/step\n",
      "1/1 [==============================] - 0s 43ms/step\n",
      "1/1 [==============================] - 0s 48ms/step\n",
      "1/1 [==============================] - 0s 47ms/step\n",
      "1/1 [==============================] - 0s 41ms/step\n",
      "Input English sentence: i forgot\n",
      "Actual Hindi Translation:  मैं भूल गया \n",
      "Predicted Hindi Translation: मैं खुश गया \n"
     ]
    }
   ],
   "source": [
    "k+=1\n",
    "(input_seq, actual_output), _ = next(test_gen)\n",
    "decoded_sentence = decode_sequence(input_seq)\n",
    "print('Input English sentence:', X_test[k:k+1].values[0])\n",
    "print('Actual Hindi Translation:', y_test[k:k+1].values[0][6:-4])\n",
    "print('Predicted Hindi Translation:', decoded_sentence[:-4])"
   ]
  },
  {
   "cell_type": "markdown",
   "metadata": {},
   "source": [
    "# Final note: \n",
    "My objective of creating an English to Hindi translator using LSTMs(Bidirectional-to improve) is to learn how the machine understands our language and how well it can perform. I have gotten good grip on Encoder Decoder Model. Now I will move on and learn transformers and attention mechanisms. There is always a scope for improvement.Peace out."
   ]
  }
 ],
 "metadata": {
  "kernelspec": {
   "display_name": ".venv",
   "language": "python",
   "name": "python3"
  },
  "language_info": {
   "codemirror_mode": {
    "name": "ipython",
    "version": 3
   },
   "file_extension": ".py",
   "mimetype": "text/x-python",
   "name": "python",
   "nbconvert_exporter": "python",
   "pygments_lexer": "ipython3",
   "version": "3.10.0"
  }
 },
 "nbformat": 4,
 "nbformat_minor": 2
}
